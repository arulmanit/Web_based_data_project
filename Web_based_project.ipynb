{
 "cells": [
  {
   "cell_type": "code",
   "execution_count": 2,
   "metadata": {},
   "outputs": [],
   "source": [
    "%matplotlib inline\n",
    "\n",
    "import pandas as pd\n",
    "import geopandas as gpd\n",
    "import matplotlib.pyplot as plt\n",
    "\n",
    "pd.options.display.max_rows = 10"
   ]
  },
  {
   "cell_type": "markdown",
   "metadata": {},
   "source": [
    "Importing geospatial data"
   ]
  },
  {
   "cell_type": "code",
   "execution_count": 24,
   "metadata": {},
   "outputs": [],
   "source": [
    "import fiona\n",
    "\n",
    "senegal = fiona.open(\"senegal_arr_2014_wgs.shp\")"
   ]
  },
  {
   "cell_type": "code",
   "execution_count": 28,
   "metadata": {},
   "outputs": [],
   "source": [
    "senegal = gpd.read_file(\"senegal_arr_2014_wgs.shp\")"
   ]
  },
  {
   "cell_type": "code",
   "execution_count": 11,
   "metadata": {},
   "outputs": [],
   "source": [
    "# Working directory examining\n",
    "\n",
    "import os\n",
    "cwd = os.getcwd()"
   ]
  },
  {
   "cell_type": "code",
   "execution_count": 12,
   "metadata": {},
   "outputs": [
    {
     "data": {
      "text/plain": [
       "'/home/user-02/Desktop/WebBasedData/Project'"
      ]
     },
     "execution_count": 12,
     "metadata": {},
     "output_type": "execute_result"
    }
   ],
   "source": [
    "cwd"
   ]
  },
  {
   "cell_type": "code",
   "execution_count": 47,
   "metadata": {},
   "outputs": [
    {
     "name": "stdout",
     "output_type": "stream",
     "text": [
      "<class 'geopandas.geodataframe.GeoDataFrame'>\n",
      "RangeIndex: 123 entries, 0 to 122\n",
      "Data columns (total 5 columns):\n",
      "ARR_ID      123 non-null int64\n",
      "REG         123 non-null object\n",
      "DEPT        123 non-null object\n",
      "ARR         123 non-null object\n",
      "geometry    123 non-null geometry\n",
      "dtypes: geometry(1), int64(1), object(3)\n",
      "memory usage: 4.9+ KB\n"
     ]
    }
   ],
   "source": [
    "senegal.info()"
   ]
  },
  {
   "cell_type": "code",
   "execution_count": 29,
   "metadata": {},
   "outputs": [
    {
     "data": {
      "text/html": [
       "<div>\n",
       "<style scoped>\n",
       "    .dataframe tbody tr th:only-of-type {\n",
       "        vertical-align: middle;\n",
       "    }\n",
       "\n",
       "    .dataframe tbody tr th {\n",
       "        vertical-align: top;\n",
       "    }\n",
       "\n",
       "    .dataframe thead th {\n",
       "        text-align: right;\n",
       "    }\n",
       "</style>\n",
       "<table border=\"1\" class=\"dataframe\">\n",
       "  <thead>\n",
       "    <tr style=\"text-align: right;\">\n",
       "      <th></th>\n",
       "      <th>ARR_ID</th>\n",
       "      <th>REG</th>\n",
       "      <th>DEPT</th>\n",
       "      <th>ARR</th>\n",
       "      <th>geometry</th>\n",
       "    </tr>\n",
       "  </thead>\n",
       "  <tbody>\n",
       "    <tr>\n",
       "      <th>0</th>\n",
       "      <td>1</td>\n",
       "      <td>DAKAR</td>\n",
       "      <td>DAKAR</td>\n",
       "      <td>PARCELLES ASSAINIES</td>\n",
       "      <td>POLYGON ((-17.42284 14.76764, -17.42329 14.767...</td>\n",
       "    </tr>\n",
       "    <tr>\n",
       "      <th>1</th>\n",
       "      <td>2</td>\n",
       "      <td>DAKAR</td>\n",
       "      <td>DAKAR</td>\n",
       "      <td>ALMADIES</td>\n",
       "      <td>MULTIPOLYGON (((-17.51195 14.75673, -17.51161 ...</td>\n",
       "    </tr>\n",
       "    <tr>\n",
       "      <th>2</th>\n",
       "      <td>3</td>\n",
       "      <td>DAKAR</td>\n",
       "      <td>DAKAR</td>\n",
       "      <td>GRAND DAKAR</td>\n",
       "      <td>POLYGON ((-17.42018 14.73348, -17.42003 14.733...</td>\n",
       "    </tr>\n",
       "    <tr>\n",
       "      <th>3</th>\n",
       "      <td>4</td>\n",
       "      <td>DAKAR</td>\n",
       "      <td>DAKAR</td>\n",
       "      <td>DAKAR PLATEAU</td>\n",
       "      <td>MULTIPOLYGON (((-17.43267 14.64669, -17.43276 ...</td>\n",
       "    </tr>\n",
       "    <tr>\n",
       "      <th>4</th>\n",
       "      <td>5</td>\n",
       "      <td>DAKAR</td>\n",
       "      <td>GUEDIAWAYE</td>\n",
       "      <td>GUEDIAWAYE</td>\n",
       "      <td>POLYGON ((-17.36185 14.79812, -17.35965 14.793...</td>\n",
       "    </tr>\n",
       "  </tbody>\n",
       "</table>\n",
       "</div>"
      ],
      "text/plain": [
       "   ARR_ID    REG        DEPT                  ARR  \\\n",
       "0       1  DAKAR       DAKAR  PARCELLES ASSAINIES   \n",
       "1       2  DAKAR       DAKAR             ALMADIES   \n",
       "2       3  DAKAR       DAKAR          GRAND DAKAR   \n",
       "3       4  DAKAR       DAKAR        DAKAR PLATEAU   \n",
       "4       5  DAKAR  GUEDIAWAYE           GUEDIAWAYE   \n",
       "\n",
       "                                            geometry  \n",
       "0  POLYGON ((-17.42284 14.76764, -17.42329 14.767...  \n",
       "1  MULTIPOLYGON (((-17.51195 14.75673, -17.51161 ...  \n",
       "2  POLYGON ((-17.42018 14.73348, -17.42003 14.733...  \n",
       "3  MULTIPOLYGON (((-17.43267 14.64669, -17.43276 ...  \n",
       "4  POLYGON ((-17.36185 14.79812, -17.35965 14.793...  "
      ]
     },
     "execution_count": 29,
     "metadata": {},
     "output_type": "execute_result"
    }
   ],
   "source": [
    "senegal.head()"
   ]
  },
  {
   "cell_type": "code",
   "execution_count": 31,
   "metadata": {},
   "outputs": [
    {
     "data": {
      "text/plain": [
       "<matplotlib.axes._subplots.AxesSubplot at 0x7f732e958ba8>"
      ]
     },
     "execution_count": 31,
     "metadata": {},
     "output_type": "execute_result"
    },
    {
     "data": {
      "image/png": "[encoded data removed]",
      "text/plain": [
       "<Figure size 432x288 with 1 Axes>"
      ]
     },
     "metadata": {
      "needs_background": "light"
     },
     "output_type": "display_data"
    }
   ],
   "source": [
    "senegal.plot()"
   ]
  },
  {
   "cell_type": "code",
   "execution_count": 32,
   "metadata": {},
   "outputs": [
    {
     "data": {
      "text/plain": [
       "geopandas.geodataframe.GeoDataFrame"
      ]
     },
     "execution_count": 32,
     "metadata": {},
     "output_type": "execute_result"
    }
   ],
   "source": [
    "type(senegal)"
   ]
  },
  {
   "cell_type": "code",
   "execution_count": 48,
   "metadata": {},
   "outputs": [
    {
     "data": {
      "text/plain": [
       "123"
      ]
     },
     "execution_count": 48,
     "metadata": {},
     "output_type": "execute_result"
    }
   ],
   "source": [
    "len(senegal)"
   ]
  },
  {
   "cell_type": "code",
   "execution_count": 49,
   "metadata": {},
   "outputs": [
    {
     "data": {
      "text/plain": [
       "<matplotlib.axes._subplots.AxesSubplot at 0x7f732e4f6048>"
      ]
     },
     "execution_count": 49,
     "metadata": {},
     "output_type": "execute_result"
    },
    {
     "data": {
      "image/png": "[encoded data removed]",
      "text/plain": [
       "<Figure size 432x288 with 1 Axes>"
      ]
     },
     "metadata": {
      "needs_background": "light"
     },
     "output_type": "display_data"
    }
   ],
   "source": [
    "senegal.plot(cmap = 'jet')"
   ]
  },
  {
   "cell_type": "code",
   "execution_count": 50,
   "metadata": {},
   "outputs": [
    {
     "data": {
      "text/plain": [
       "<matplotlib.axes._subplots.AxesSubplot at 0x7f732dc10780>"
      ]
     },
     "execution_count": 50,
     "metadata": {},
     "output_type": "execute_result"
    },
    {
     "data": {
      "image/png": "[encoded data removed]",
      "text/plain": [
       "<Figure size 432x288 with 1 Axes>"
      ]
     },
     "metadata": {
      "needs_background": "light"
     },
     "output_type": "display_data"
    }
   ],
   "source": [
    "senegal.plot(cmap = 'jet', column = 'REG')"
   ]
  },
  {
   "cell_type": "code",
   "execution_count": 51,
   "metadata": {},
   "outputs": [
    {
     "data": {
      "text/plain": [
       "<matplotlib.axes._subplots.AxesSubplot at 0x7f732c089668>"
      ]
     },
     "execution_count": 51,
     "metadata": {},
     "output_type": "execute_result"
    },
    {
     "data": {
      "image/png": "[encoded data removed]",
      "text/plain": [
       "<Figure size 720x720 with 1 Axes>"
      ]
     },
     "metadata": {
      "needs_background": "light"
     },
     "output_type": "display_data"
    }
   ],
   "source": [
    "senegal.plot(cmap = 'jet', column = 'REG', figsize  = (10,10))"
   ]
  },
  {
   "cell_type": "code",
   "execution_count": 33,
   "metadata": {},
   "outputs": [
    {
     "data": {
      "text/plain": [
       "0      POLYGON ((-17.42284 14.76764, -17.42329 14.767...\n",
       "1      MULTIPOLYGON (((-17.51195 14.75673, -17.51161 ...\n",
       "2      POLYGON ((-17.42018 14.73348, -17.42003 14.733...\n",
       "3      MULTIPOLYGON (((-17.43267 14.64669, -17.43276 ...\n",
       "4      POLYGON ((-17.36185 14.79812, -17.35965 14.793...\n",
       "                             ...                        \n",
       "118    POLYGON ((-13.80916 15.67062, -13.80917 15.670...\n",
       "119    MULTIPOLYGON (((-13.80916 15.67062, -13.80910 ...\n",
       "120    POLYGON ((-14.39979 15.63487, -14.40362 15.618...\n",
       "121    POLYGON ((-12.92529 15.44199, -12.92532 15.438...\n",
       "122    POLYGON ((-13.06569 15.48146, -13.05261 15.477...\n",
       "Name: geometry, Length: 123, dtype: geometry"
      ]
     },
     "execution_count": 33,
     "metadata": {},
     "output_type": "execute_result"
    }
   ],
   "source": [
    "senegal.geometry"
   ]
  },
  {
   "cell_type": "code",
   "execution_count": 34,
   "metadata": {},
   "outputs": [
    {
     "data": {
      "text/plain": [
       "0      0.001244\n",
       "1      0.002457\n",
       "2      0.001666\n",
       "3      0.001232\n",
       "4      0.001491\n",
       "         ...   \n",
       "118    0.252476\n",
       "119    0.179031\n",
       "120    1.169072\n",
       "121    0.227230\n",
       "122    0.526168\n",
       "Length: 123, dtype: float64"
      ]
     },
     "execution_count": 34,
     "metadata": {},
     "output_type": "execute_result"
    }
   ],
   "source": [
    "senegal.geometry.area"
   ]
  },
  {
   "cell_type": "code",
   "execution_count": 44,
   "metadata": {},
   "outputs": [
    {
     "data": {
      "image/png": "[encoded data removed]",
      "text/plain": [
       "<Figure size 432x288 with 1 Axes>"
      ]
     },
     "metadata": {
      "needs_background": "light"
     },
     "output_type": "display_data"
    }
   ],
   "source": [
    "# We restrict to dakar region .\n",
    "senegal_1 = senegal[senegal.REG == 'DAKAR'].plot(\n",
    "    color='white', edgecolor='black')\n",
    "\n",
    "# We can now plot our ``GeoDataFrame``.\n",
    "senegal_1.plot(ax=senegal_1, color='red')\n",
    "\n",
    "plt.show()"
   ]
  },
  {
   "cell_type": "code",
   "execution_count": 1,
   "metadata": {},
   "outputs": [],
   "source": [
    "import networkx as nx\n",
    "G = nx.Graph()"
   ]
  },
  {
   "cell_type": "code",
   "execution_count": 3,
   "metadata": {},
   "outputs": [],
   "source": [
    "SET2_P01 = pd.read_csv('SET2_P01.CSV')"
   ]
  },
  {
   "cell_type": "code",
   "execution_count": 4,
   "metadata": {},
   "outputs": [
    {
     "data": {
      "text/html": [
       "<div>\n",
       "<style scoped>\n",
       "    .dataframe tbody tr th:only-of-type {\n",
       "        vertical-align: middle;\n",
       "    }\n",
       "\n",
       "    .dataframe tbody tr th {\n",
       "        vertical-align: top;\n",
       "    }\n",
       "\n",
       "    .dataframe thead th {\n",
       "        text-align: right;\n",
       "    }\n",
       "</style>\n",
       "<table border=\"1\" class=\"dataframe\">\n",
       "  <thead>\n",
       "    <tr style=\"text-align: right;\">\n",
       "      <th></th>\n",
       "      <th>1</th>\n",
       "      <th>2013-01-07 13:10:00</th>\n",
       "      <th>461</th>\n",
       "    </tr>\n",
       "  </thead>\n",
       "  <tbody>\n",
       "    <tr>\n",
       "      <th>0</th>\n",
       "      <td>1</td>\n",
       "      <td>2013-01-07 17:20:00</td>\n",
       "      <td>454</td>\n",
       "    </tr>\n",
       "    <tr>\n",
       "      <th>1</th>\n",
       "      <td>1</td>\n",
       "      <td>2013-01-07 17:30:00</td>\n",
       "      <td>454</td>\n",
       "    </tr>\n",
       "    <tr>\n",
       "      <th>2</th>\n",
       "      <td>1</td>\n",
       "      <td>2013-01-07 18:40:00</td>\n",
       "      <td>327</td>\n",
       "    </tr>\n",
       "    <tr>\n",
       "      <th>3</th>\n",
       "      <td>1</td>\n",
       "      <td>2013-01-07 20:30:00</td>\n",
       "      <td>323</td>\n",
       "    </tr>\n",
       "    <tr>\n",
       "      <th>4</th>\n",
       "      <td>1</td>\n",
       "      <td>2013-01-08 18:40:00</td>\n",
       "      <td>323</td>\n",
       "    </tr>\n",
       "  </tbody>\n",
       "</table>\n",
       "</div>"
      ],
      "text/plain": [
       "   1  2013-01-07 13:10:00  461\n",
       "0  1  2013-01-07 17:20:00  454\n",
       "1  1  2013-01-07 17:30:00  454\n",
       "2  1  2013-01-07 18:40:00  327\n",
       "3  1  2013-01-07 20:30:00  323\n",
       "4  1  2013-01-08 18:40:00  323"
      ]
     },
     "execution_count": 4,
     "metadata": {},
     "output_type": "execute_result"
    }
   ],
   "source": [
    "SET2_P01.head()"
   ]
  },
  {
   "cell_type": "code",
   "execution_count": null,
   "metadata": {},
   "outputs": [],
   "source": [
    "from pandas import read_csv\n",
    "\n",
    "    "
   ]
  },
  {
   "cell_type": "code",
   "execution_count": 5,
   "metadata": {},
   "outputs": [
    {
     "name": "stderr",
     "output_type": "stream",
     "text": [
      "/home/user-02/anaconda3/lib/python3.7/site-packages/IPython/core/interactiveshell.py:3057: DtypeWarning: Columns (2,3,4,5,8,9,10,14,15,16,20,22,27) have mixed types. Specify dtype option on import or set low_memory=False.\n",
      "  interactivity=interactivity, compiler=compiler, result=result)\n"
     ]
    }
   ],
   "source": [
    "INDICATORS_SET2_P01 = pd.read_csv('INDICATORS_SET2_P01.CSV')"
   ]
  },
  {
   "cell_type": "code",
   "execution_count": 6,
   "metadata": {},
   "outputs": [
    {
     "data": {
      "text/html": [
       "<div>\n",
       "<style scoped>\n",
       "    .dataframe tbody tr th:only-of-type {\n",
       "        vertical-align: middle;\n",
       "    }\n",
       "\n",
       "    .dataframe tbody tr th {\n",
       "        vertical-align: top;\n",
       "    }\n",
       "\n",
       "    .dataframe thead th {\n",
       "        text-align: right;\n",
       "    }\n",
       "</style>\n",
       "<table border=\"1\" class=\"dataframe\">\n",
       "  <thead>\n",
       "    <tr style=\"text-align: right;\">\n",
       "      <th></th>\n",
       "      <th>240</th>\n",
       "      <th>10</th>\n",
       "      <th>131.97</th>\n",
       "      <th>73.0</th>\n",
       "      <th>166.21</th>\n",
       "      <th>2.81</th>\n",
       "      <th>None</th>\n",
       "      <th>2.11</th>\n",
       "      <th>4.17</th>\n",
       "      <th>1.0</th>\n",
       "      <th>...</th>\n",
       "      <th>24</th>\n",
       "      <th>0</th>\n",
       "      <th>0.47</th>\n",
       "      <th>0.32</th>\n",
       "      <th>None.9</th>\n",
       "      <th>8480.75</th>\n",
       "      <th>0.0</th>\n",
       "      <th>0.0.1</th>\n",
       "      <th>0.0.2</th>\n",
       "      <th>0.1</th>\n",
       "    </tr>\n",
       "  </thead>\n",
       "  <tbody>\n",
       "    <tr>\n",
       "      <th>0</th>\n",
       "      <td>480</td>\n",
       "      <td>5</td>\n",
       "      <td>27.77</td>\n",
       "      <td>20.5</td>\n",
       "      <td>24.27</td>\n",
       "      <td>2.3</td>\n",
       "      <td>0.0</td>\n",
       "      <td>0.96</td>\n",
       "      <td>4.43</td>\n",
       "      <td>3.0</td>\n",
       "      <td>...</td>\n",
       "      <td>5</td>\n",
       "      <td>0.00</td>\n",
       "      <td>0.33</td>\n",
       "      <td>0.35</td>\n",
       "      <td>0.0</td>\n",
       "      <td>6322.78</td>\n",
       "      <td>0.00</td>\n",
       "      <td>0.0</td>\n",
       "      <td>0.00</td>\n",
       "      <td>0.00</td>\n",
       "    </tr>\n",
       "    <tr>\n",
       "      <th>1</th>\n",
       "      <td>720</td>\n",
       "      <td>14</td>\n",
       "      <td>28.7</td>\n",
       "      <td>20.5</td>\n",
       "      <td>29.59</td>\n",
       "      <td>2.82</td>\n",
       "      <td>1.1</td>\n",
       "      <td>0.99</td>\n",
       "      <td>4.19</td>\n",
       "      <td>2.0</td>\n",
       "      <td>...</td>\n",
       "      <td>8</td>\n",
       "      <td>0.00</td>\n",
       "      <td>0.68</td>\n",
       "      <td>0.22</td>\n",
       "      <td>0.0</td>\n",
       "      <td>12652.28</td>\n",
       "      <td>0.00</td>\n",
       "      <td>0.0</td>\n",
       "      <td>0.00</td>\n",
       "      <td>0.00</td>\n",
       "    </tr>\n",
       "    <tr>\n",
       "      <th>2</th>\n",
       "      <td>960</td>\n",
       "      <td>12</td>\n",
       "      <td>30.13</td>\n",
       "      <td>21.0</td>\n",
       "      <td>41.58</td>\n",
       "      <td>1.99</td>\n",
       "      <td>2.24</td>\n",
       "      <td>2.27</td>\n",
       "      <td>3.2</td>\n",
       "      <td>2.0</td>\n",
       "      <td>...</td>\n",
       "      <td>36</td>\n",
       "      <td>0.32</td>\n",
       "      <td>0.33</td>\n",
       "      <td>0.41</td>\n",
       "      <td>0.55</td>\n",
       "      <td>7033.53</td>\n",
       "      <td>207.46</td>\n",
       "      <td>61.0</td>\n",
       "      <td>418.21</td>\n",
       "      <td>0.55</td>\n",
       "    </tr>\n",
       "    <tr>\n",
       "      <th>3</th>\n",
       "      <td>1200</td>\n",
       "      <td>14</td>\n",
       "      <td>44.23</td>\n",
       "      <td>27.5</td>\n",
       "      <td>56.32</td>\n",
       "      <td>2.98</td>\n",
       "      <td>2.3</td>\n",
       "      <td>2.07</td>\n",
       "      <td>5.63</td>\n",
       "      <td>3.0</td>\n",
       "      <td>...</td>\n",
       "      <td>15</td>\n",
       "      <td>0.00</td>\n",
       "      <td>0.25</td>\n",
       "      <td>0.75</td>\n",
       "      <td>0.6</td>\n",
       "      <td>6461.80</td>\n",
       "      <td>0.00</td>\n",
       "      <td>0.0</td>\n",
       "      <td>0.00</td>\n",
       "      <td>0.00</td>\n",
       "    </tr>\n",
       "    <tr>\n",
       "      <th>4</th>\n",
       "      <td>1440</td>\n",
       "      <td>13</td>\n",
       "      <td>53.58</td>\n",
       "      <td>32.0</td>\n",
       "      <td>60.04</td>\n",
       "      <td>3.82</td>\n",
       "      <td>2.25</td>\n",
       "      <td>0.92</td>\n",
       "      <td>1.53</td>\n",
       "      <td>1.0</td>\n",
       "      <td>...</td>\n",
       "      <td>7</td>\n",
       "      <td>0.20</td>\n",
       "      <td>0.7</td>\n",
       "      <td>0.74</td>\n",
       "      <td>0.58</td>\n",
       "      <td>6849.04</td>\n",
       "      <td>447.50</td>\n",
       "      <td>447.5</td>\n",
       "      <td>235.47</td>\n",
       "      <td>0.25</td>\n",
       "    </tr>\n",
       "  </tbody>\n",
       "</table>\n",
       "<p>5 rows × 34 columns</p>\n",
       "</div>"
      ],
      "text/plain": [
       "    240  10 131.97  73.0 166.21  2.81  None  2.11  4.17  1.0  ...  24     0  \\\n",
       "0   480   5  27.77  20.5  24.27   2.3   0.0  0.96  4.43  3.0  ...   5  0.00   \n",
       "1   720  14   28.7  20.5  29.59  2.82   1.1  0.99  4.19  2.0  ...   8  0.00   \n",
       "2   960  12  30.13  21.0  41.58  1.99  2.24  2.27   3.2  2.0  ...  36  0.32   \n",
       "3  1200  14  44.23  27.5  56.32  2.98   2.3  2.07  5.63  3.0  ...  15  0.00   \n",
       "4  1440  13  53.58  32.0  60.04  3.82  2.25  0.92  1.53  1.0  ...   7  0.20   \n",
       "\n",
       "   0.47  0.32 None.9   8480.75     0.0  0.0.1   0.0.2   0.1  \n",
       "0  0.33  0.35    0.0   6322.78    0.00    0.0    0.00  0.00  \n",
       "1  0.68  0.22    0.0  12652.28    0.00    0.0    0.00  0.00  \n",
       "2  0.33  0.41   0.55   7033.53  207.46   61.0  418.21  0.55  \n",
       "3  0.25  0.75    0.6   6461.80    0.00    0.0    0.00  0.00  \n",
       "4   0.7  0.74   0.58   6849.04  447.50  447.5  235.47  0.25  \n",
       "\n",
       "[5 rows x 34 columns]"
      ]
     },
     "execution_count": 6,
     "metadata": {},
     "output_type": "execute_result"
    }
   ],
   "source": [
    "INDICATORS_SET2_P01.head()"
   ]
  },
  {
   "cell_type": "code",
   "execution_count": 12,
   "metadata": {},
   "outputs": [],
   "source": [
    "header = pd.read_csv('INDICATORS_SET2_HEADERS.CSV')"
   ]
  },
  {
   "cell_type": "code",
   "execution_count": 13,
   "metadata": {},
   "outputs": [
    {
     "data": {
      "text/html": [
       "<div>\n",
       "<style scoped>\n",
       "    .dataframe tbody tr th:only-of-type {\n",
       "        vertical-align: middle;\n",
       "    }\n",
       "\n",
       "    .dataframe tbody tr th {\n",
       "        vertical-align: top;\n",
       "    }\n",
       "\n",
       "    .dataframe thead th {\n",
       "        text-align: right;\n",
       "    }\n",
       "</style>\n",
       "<table border=\"1\" class=\"dataframe\">\n",
       "  <thead>\n",
       "    <tr style=\"text-align: right;\">\n",
       "      <th></th>\n",
       "      <th>'userid'</th>\n",
       "      <th>'activedays_all'</th>\n",
       "      <th>'durationofcalls_call_mean'</th>\n",
       "      <th>'durationofcalls_call_median'</th>\n",
       "      <th>'durationofcalls_call_std'</th>\n",
       "      <th>'entropyofcontacts_call'</th>\n",
       "      <th>'entropyofcontacts_text'</th>\n",
       "      <th>'entropyplaces_all'</th>\n",
       "      <th>'interactionspercontact_call_mean'</th>\n",
       "      <th>'interactionspercontact_call_median'</th>\n",
       "      <th>...</th>\n",
       "      <th>'numberofplaces_all'</th>\n",
       "      <th>'percentageinitiatedconversation_all'</th>\n",
       "      <th>'percentathome_all'</th>\n",
       "      <th>'percentnocturnal_call'</th>\n",
       "      <th>'percentnocturnal_text'</th>\n",
       "      <th>'radiusofgyration_all'</th>\n",
       "      <th>'responsedelaytext_all_mean'</th>\n",
       "      <th>'responsedelaytext_all_median'</th>\n",
       "      <th>'responsedelaytext_all_std'</th>\n",
       "      <th>'responseratetext_all'</th>\n",
       "    </tr>\n",
       "  </thead>\n",
       "  <tbody>\n",
       "  </tbody>\n",
       "</table>\n",
       "<p>0 rows × 34 columns</p>\n",
       "</div>"
      ],
      "text/plain": [
       "Empty DataFrame\n",
       "Columns: ['userid', 'activedays_all',  'durationofcalls_call_mean',  'durationofcalls_call_median',  'durationofcalls_call_std',  'entropyofcontacts_call',  'entropyofcontacts_text',  'entropyplaces_all',  'interactionspercontact_call_mean',  'interactionspercontact_call_median',  'interactionspercontact_call_std',  'interactionspercontact_text_mean',  'interactionspercontact_text_median',  'interactionspercontact_text_std',  'interevents_call_mean',  'interevents_call_median',  'interevents_call_std',  'interevents_text_mean',  'interevents_text_median',  'interevents_text_std',  'numberofcontacts_call',  'numberofcontacts_text',  'numberofinteractions_call',  'numberofinteractions_text',  'numberofplaces_all',  'percentageinitiatedconversation_all',  'percentathome_all',  'percentnocturnal_call',  'percentnocturnal_text',  'radiusofgyration_all',  'responsedelaytext_all_mean',  'responsedelaytext_all_median',  'responsedelaytext_all_std',  'responseratetext_all']\n",
       "Index: []\n",
       "\n",
       "[0 rows x 34 columns]"
      ]
     },
     "execution_count": 13,
     "metadata": {},
     "output_type": "execute_result"
    }
   ],
   "source": [
    "header.head()"
   ]
  },
  {
   "cell_type": "code",
   "execution_count": null,
   "metadata": {},
   "outputs": [],
   "source": [
    "INDICATORS_SET2_P01 = pd.read_csv('INDICATORS_SET2_P01.CSV')"
   ]
  },
  {
   "cell_type": "code",
   "execution_count": 22,
   "metadata": {},
   "outputs": [
    {
     "data": {
      "text/html": [
       "<div>\n",
       "<style scoped>\n",
       "    .dataframe tbody tr th:only-of-type {\n",
       "        vertical-align: middle;\n",
       "    }\n",
       "\n",
       "    .dataframe tbody tr th {\n",
       "        vertical-align: top;\n",
       "    }\n",
       "\n",
       "    .dataframe thead th {\n",
       "        text-align: right;\n",
       "    }\n",
       "</style>\n",
       "<table border=\"1\" class=\"dataframe\">\n",
       "  <thead>\n",
       "    <tr style=\"text-align: right;\">\n",
       "      <th></th>\n",
       "      <th>'userid'</th>\n",
       "      <th>'activedays_all'</th>\n",
       "      <th>'durationofcalls_call_mean'</th>\n",
       "      <th>'durationofcalls_call_median'</th>\n",
       "      <th>'durationofcalls_call_std'</th>\n",
       "      <th>'entropyofcontacts_call'</th>\n",
       "      <th>'entropyofcontacts_text'</th>\n",
       "      <th>'entropyplaces_all'</th>\n",
       "      <th>'interactionspercontact_call_mean'</th>\n",
       "      <th>'interactionspercontact_call_median'</th>\n",
       "      <th>...</th>\n",
       "      <th>'numberofplaces_all'</th>\n",
       "      <th>'percentageinitiatedconversation_all'</th>\n",
       "      <th>'percentathome_all'</th>\n",
       "      <th>'percentnocturnal_call'</th>\n",
       "      <th>'percentnocturnal_text'</th>\n",
       "      <th>'radiusofgyration_all'</th>\n",
       "      <th>'responsedelaytext_all_mean'</th>\n",
       "      <th>'responsedelaytext_all_median'</th>\n",
       "      <th>'responsedelaytext_all_std'</th>\n",
       "      <th>'responseratetext_all'</th>\n",
       "    </tr>\n",
       "  </thead>\n",
       "  <tbody>\n",
       "    <tr>\n",
       "      <th>0</th>\n",
       "      <td>240</td>\n",
       "      <td>10</td>\n",
       "      <td>131.97</td>\n",
       "      <td>73.0</td>\n",
       "      <td>166.21</td>\n",
       "      <td>2.81</td>\n",
       "      <td>None</td>\n",
       "      <td>2.11</td>\n",
       "      <td>4.17</td>\n",
       "      <td>1.0</td>\n",
       "      <td>...</td>\n",
       "      <td>24</td>\n",
       "      <td>0.00</td>\n",
       "      <td>0.47</td>\n",
       "      <td>0.32</td>\n",
       "      <td>None</td>\n",
       "      <td>8480.75</td>\n",
       "      <td>0.00</td>\n",
       "      <td>0.0</td>\n",
       "      <td>0.00</td>\n",
       "      <td>0.00</td>\n",
       "    </tr>\n",
       "    <tr>\n",
       "      <th>1</th>\n",
       "      <td>480</td>\n",
       "      <td>5</td>\n",
       "      <td>27.77</td>\n",
       "      <td>20.5</td>\n",
       "      <td>24.27</td>\n",
       "      <td>2.3</td>\n",
       "      <td>0.0</td>\n",
       "      <td>0.96</td>\n",
       "      <td>4.43</td>\n",
       "      <td>3.0</td>\n",
       "      <td>...</td>\n",
       "      <td>5</td>\n",
       "      <td>0.00</td>\n",
       "      <td>0.33</td>\n",
       "      <td>0.35</td>\n",
       "      <td>0.0</td>\n",
       "      <td>6322.78</td>\n",
       "      <td>0.00</td>\n",
       "      <td>0.0</td>\n",
       "      <td>0.00</td>\n",
       "      <td>0.00</td>\n",
       "    </tr>\n",
       "    <tr>\n",
       "      <th>2</th>\n",
       "      <td>720</td>\n",
       "      <td>14</td>\n",
       "      <td>28.7</td>\n",
       "      <td>20.5</td>\n",
       "      <td>29.59</td>\n",
       "      <td>2.82</td>\n",
       "      <td>1.1</td>\n",
       "      <td>0.99</td>\n",
       "      <td>4.19</td>\n",
       "      <td>2.0</td>\n",
       "      <td>...</td>\n",
       "      <td>8</td>\n",
       "      <td>0.00</td>\n",
       "      <td>0.68</td>\n",
       "      <td>0.22</td>\n",
       "      <td>0.0</td>\n",
       "      <td>12652.28</td>\n",
       "      <td>0.00</td>\n",
       "      <td>0.0</td>\n",
       "      <td>0.00</td>\n",
       "      <td>0.00</td>\n",
       "    </tr>\n",
       "    <tr>\n",
       "      <th>3</th>\n",
       "      <td>960</td>\n",
       "      <td>12</td>\n",
       "      <td>30.13</td>\n",
       "      <td>21.0</td>\n",
       "      <td>41.58</td>\n",
       "      <td>1.99</td>\n",
       "      <td>2.24</td>\n",
       "      <td>2.27</td>\n",
       "      <td>3.2</td>\n",
       "      <td>2.0</td>\n",
       "      <td>...</td>\n",
       "      <td>36</td>\n",
       "      <td>0.32</td>\n",
       "      <td>0.33</td>\n",
       "      <td>0.41</td>\n",
       "      <td>0.55</td>\n",
       "      <td>7033.53</td>\n",
       "      <td>207.46</td>\n",
       "      <td>61.0</td>\n",
       "      <td>418.21</td>\n",
       "      <td>0.55</td>\n",
       "    </tr>\n",
       "    <tr>\n",
       "      <th>4</th>\n",
       "      <td>1200</td>\n",
       "      <td>14</td>\n",
       "      <td>44.23</td>\n",
       "      <td>27.5</td>\n",
       "      <td>56.32</td>\n",
       "      <td>2.98</td>\n",
       "      <td>2.3</td>\n",
       "      <td>2.07</td>\n",
       "      <td>5.63</td>\n",
       "      <td>3.0</td>\n",
       "      <td>...</td>\n",
       "      <td>15</td>\n",
       "      <td>0.00</td>\n",
       "      <td>0.25</td>\n",
       "      <td>0.75</td>\n",
       "      <td>0.6</td>\n",
       "      <td>6461.80</td>\n",
       "      <td>0.00</td>\n",
       "      <td>0.0</td>\n",
       "      <td>0.00</td>\n",
       "      <td>0.00</td>\n",
       "    </tr>\n",
       "  </tbody>\n",
       "</table>\n",
       "<p>5 rows × 34 columns</p>\n",
       "</div>"
      ],
      "text/plain": [
       "   'userid'  'activedays_all'  'durationofcalls_call_mean'  \\\n",
       "0       240                10                       131.97   \n",
       "1       480                 5                        27.77   \n",
       "2       720                14                         28.7   \n",
       "3       960                12                        30.13   \n",
       "4      1200                14                        44.23   \n",
       "\n",
       "   'durationofcalls_call_median'  'durationofcalls_call_std'  \\\n",
       "0                           73.0                      166.21   \n",
       "1                           20.5                       24.27   \n",
       "2                           20.5                       29.59   \n",
       "3                           21.0                       41.58   \n",
       "4                           27.5                       56.32   \n",
       "\n",
       "   'entropyofcontacts_call'  'entropyofcontacts_text'   'entropyplaces_all'  \\\n",
       "0                      2.81                      None                  2.11   \n",
       "1                       2.3                       0.0                  0.96   \n",
       "2                      2.82                       1.1                  0.99   \n",
       "3                      1.99                      2.24                  2.27   \n",
       "4                      2.98                       2.3                  2.07   \n",
       "\n",
       "   'interactionspercontact_call_mean'  'interactionspercontact_call_median'  \\\n",
       "0                                4.17                                   1.0   \n",
       "1                                4.43                                   3.0   \n",
       "2                                4.19                                   2.0   \n",
       "3                                 3.2                                   2.0   \n",
       "4                                5.63                                   3.0   \n",
       "\n",
       "   ...  'numberofplaces_all'  'percentageinitiatedconversation_all'  \\\n",
       "0  ...                    24                                   0.00   \n",
       "1  ...                     5                                   0.00   \n",
       "2  ...                     8                                   0.00   \n",
       "3  ...                    36                                   0.32   \n",
       "4  ...                    15                                   0.00   \n",
       "\n",
       "   'percentathome_all'  'percentnocturnal_call'  'percentnocturnal_text'  \\\n",
       "0                 0.47                     0.32                     None   \n",
       "1                 0.33                     0.35                      0.0   \n",
       "2                 0.68                     0.22                      0.0   \n",
       "3                 0.33                     0.41                     0.55   \n",
       "4                 0.25                     0.75                      0.6   \n",
       "\n",
       "   'radiusofgyration_all'  'responsedelaytext_all_mean'  \\\n",
       "0                 8480.75                          0.00   \n",
       "1                 6322.78                          0.00   \n",
       "2                12652.28                          0.00   \n",
       "3                 7033.53                        207.46   \n",
       "4                 6461.80                          0.00   \n",
       "\n",
       "   'responsedelaytext_all_median'  'responsedelaytext_all_std'  \\\n",
       "0                             0.0                         0.00   \n",
       "1                             0.0                         0.00   \n",
       "2                             0.0                         0.00   \n",
       "3                            61.0                       418.21   \n",
       "4                             0.0                         0.00   \n",
       "\n",
       "   'responseratetext_all'  \n",
       "0                    0.00  \n",
       "1                    0.00  \n",
       "2                    0.00  \n",
       "3                    0.55  \n",
       "4                    0.00  \n",
       "\n",
       "[5 rows x 34 columns]"
      ]
     },
     "execution_count": 22,
     "metadata": {},
     "output_type": "execute_result"
    }
   ],
   "source": [
    "header = list(pd.read_csv('INDICATORS_SET2_HEADERS.CSV'))\n",
    "\n",
    "I_SET2_P01 = pd.read_csv('data/SET2/INDICATORS_SET2_P01.CSV.gz', names  = header)\n",
    "I_SET2_P01.head()"
   ]
  },
  {
   "cell_type": "code",
   "execution_count": 38,
   "metadata": {},
   "outputs": [
    {
     "data": {
      "text/html": [
       "<div>\n",
       "<style scoped>\n",
       "    .dataframe tbody tr th:only-of-type {\n",
       "        vertical-align: middle;\n",
       "    }\n",
       "\n",
       "    .dataframe tbody tr th {\n",
       "        vertical-align: top;\n",
       "    }\n",
       "\n",
       "    .dataframe thead th {\n",
       "        text-align: right;\n",
       "    }\n",
       "</style>\n",
       "<table border=\"1\" class=\"dataframe\">\n",
       "  <thead>\n",
       "    <tr style=\"text-align: right;\">\n",
       "      <th></th>\n",
       "      <th>0</th>\n",
       "      <th>1</th>\n",
       "      <th>2</th>\n",
       "      <th>3</th>\n",
       "    </tr>\n",
       "  </thead>\n",
       "  <tbody>\n",
       "    <tr>\n",
       "      <th>0</th>\n",
       "      <td>2013-01-01 00</td>\n",
       "      <td>1</td>\n",
       "      <td>61</td>\n",
       "      <td>1</td>\n",
       "    </tr>\n",
       "    <tr>\n",
       "      <th>1</th>\n",
       "      <td>2013-01-01 00</td>\n",
       "      <td>1</td>\n",
       "      <td>340</td>\n",
       "      <td>1</td>\n",
       "    </tr>\n",
       "    <tr>\n",
       "      <th>2</th>\n",
       "      <td>2013-01-01 00</td>\n",
       "      <td>1</td>\n",
       "      <td>419</td>\n",
       "      <td>1</td>\n",
       "    </tr>\n",
       "    <tr>\n",
       "      <th>3</th>\n",
       "      <td>2013-01-01 00</td>\n",
       "      <td>1</td>\n",
       "      <td>420</td>\n",
       "      <td>1</td>\n",
       "    </tr>\n",
       "    <tr>\n",
       "      <th>4</th>\n",
       "      <td>2013-01-01 00</td>\n",
       "      <td>1</td>\n",
       "      <td>447</td>\n",
       "      <td>2</td>\n",
       "    </tr>\n",
       "  </tbody>\n",
       "</table>\n",
       "</div>"
      ],
      "text/plain": [
       "               0  1    2  3\n",
       "0  2013-01-01 00  1   61  1\n",
       "1  2013-01-01 00  1  340  1\n",
       "2  2013-01-01 00  1  419  1\n",
       "3  2013-01-01 00  1  420  1\n",
       "4  2013-01-01 00  1  447  2"
      ]
     },
     "execution_count": 38,
     "metadata": {},
     "output_type": "execute_result"
    }
   ],
   "source": [
    "SET1S_01 = pd.read_csv('data/SET1/SET1S_01.CSV.gz', header = None)\n",
    "SET1S_01.head()"
   ]
  },
  {
   "cell_type": "code",
   "execution_count": 36,
   "metadata": {},
   "outputs": [
    {
     "data": {
      "text/html": [
       "<div>\n",
       "<style scoped>\n",
       "    .dataframe tbody tr th:only-of-type {\n",
       "        vertical-align: middle;\n",
       "    }\n",
       "\n",
       "    .dataframe tbody tr th {\n",
       "        vertical-align: top;\n",
       "    }\n",
       "\n",
       "    .dataframe thead th {\n",
       "        text-align: right;\n",
       "    }\n",
       "</style>\n",
       "<table border=\"1\" class=\"dataframe\">\n",
       "  <thead>\n",
       "    <tr style=\"text-align: right;\">\n",
       "      <th></th>\n",
       "      <th>2013-01-01 00</th>\n",
       "      <th>1</th>\n",
       "      <th>1.1</th>\n",
       "      <th>1.2</th>\n",
       "      <th>54</th>\n",
       "    </tr>\n",
       "  </thead>\n",
       "  <tbody>\n",
       "    <tr>\n",
       "      <th>0</th>\n",
       "      <td>2013-01-01 00</td>\n",
       "      <td>1</td>\n",
       "      <td>2</td>\n",
       "      <td>1</td>\n",
       "      <td>39</td>\n",
       "    </tr>\n",
       "    <tr>\n",
       "      <th>1</th>\n",
       "      <td>2013-01-01 00</td>\n",
       "      <td>1</td>\n",
       "      <td>24</td>\n",
       "      <td>1</td>\n",
       "      <td>2957</td>\n",
       "    </tr>\n",
       "    <tr>\n",
       "      <th>2</th>\n",
       "      <td>2013-01-01 00</td>\n",
       "      <td>1</td>\n",
       "      <td>186</td>\n",
       "      <td>1</td>\n",
       "      <td>56</td>\n",
       "    </tr>\n",
       "    <tr>\n",
       "      <th>3</th>\n",
       "      <td>2013-01-01 00</td>\n",
       "      <td>2</td>\n",
       "      <td>2</td>\n",
       "      <td>22</td>\n",
       "      <td>418</td>\n",
       "    </tr>\n",
       "    <tr>\n",
       "      <th>4</th>\n",
       "      <td>2013-01-01 00</td>\n",
       "      <td>2</td>\n",
       "      <td>3</td>\n",
       "      <td>2</td>\n",
       "      <td>53</td>\n",
       "    </tr>\n",
       "  </tbody>\n",
       "</table>\n",
       "</div>"
      ],
      "text/plain": [
       "   2013-01-01 00  1  1.1  1.2    54\n",
       "0  2013-01-01 00  1    2    1    39\n",
       "1  2013-01-01 00  1   24    1  2957\n",
       "2  2013-01-01 00  1  186    1    56\n",
       "3  2013-01-01 00  2    2   22   418\n",
       "4  2013-01-01 00  2    3    2    53"
      ]
     },
     "execution_count": 36,
     "metadata": {},
     "output_type": "execute_result"
    }
   ],
   "source": [
    "SET1V_01 = pd.read_csv('data/SET1/SET1V_01.CSV.gz')\n",
    "SET1V_01.head()           "
   ]
  },
  {
   "cell_type": "code",
   "execution_count": 37,
   "metadata": {},
   "outputs": [
    {
     "data": {
      "text/html": [
       "<div>\n",
       "<style scoped>\n",
       "    .dataframe tbody tr th:only-of-type {\n",
       "        vertical-align: middle;\n",
       "    }\n",
       "\n",
       "    .dataframe tbody tr th {\n",
       "        vertical-align: top;\n",
       "    }\n",
       "\n",
       "    .dataframe thead th {\n",
       "        text-align: right;\n",
       "    }\n",
       "</style>\n",
       "<table border=\"1\" class=\"dataframe\">\n",
       "  <thead>\n",
       "    <tr style=\"text-align: right;\">\n",
       "      <th></th>\n",
       "      <th>2013-01-01 00</th>\n",
       "      <th>1</th>\n",
       "      <th>61</th>\n",
       "      <th>1.1</th>\n",
       "    </tr>\n",
       "  </thead>\n",
       "  <tbody>\n",
       "    <tr>\n",
       "      <th>50230470</th>\n",
       "      <td>2013-01-31 23</td>\n",
       "      <td>1656</td>\n",
       "      <td>1631</td>\n",
       "      <td>1</td>\n",
       "    </tr>\n",
       "    <tr>\n",
       "      <th>50230471</th>\n",
       "      <td>2013-01-31 23</td>\n",
       "      <td>1656</td>\n",
       "      <td>1633</td>\n",
       "      <td>1</td>\n",
       "    </tr>\n",
       "    <tr>\n",
       "      <th>50230472</th>\n",
       "      <td>2013-01-31 23</td>\n",
       "      <td>1656</td>\n",
       "      <td>1656</td>\n",
       "      <td>14</td>\n",
       "    </tr>\n",
       "    <tr>\n",
       "      <th>50230473</th>\n",
       "      <td>2013-01-31 23</td>\n",
       "      <td>1666</td>\n",
       "      <td>944</td>\n",
       "      <td>1</td>\n",
       "    </tr>\n",
       "    <tr>\n",
       "      <th>50230474</th>\n",
       "      <td>2013-01-31 23</td>\n",
       "      <td>1666</td>\n",
       "      <td>1642</td>\n",
       "      <td>1</td>\n",
       "    </tr>\n",
       "  </tbody>\n",
       "</table>\n",
       "</div>"
      ],
      "text/plain": [
       "          2013-01-01 00     1    61  1.1\n",
       "50230470  2013-01-31 23  1656  1631    1\n",
       "50230471  2013-01-31 23  1656  1633    1\n",
       "50230472  2013-01-31 23  1656  1656   14\n",
       "50230473  2013-01-31 23  1666   944    1\n",
       "50230474  2013-01-31 23  1666  1642    1"
      ]
     },
     "execution_count": 37,
     "metadata": {},
     "output_type": "execute_result"
    }
   ],
   "source": [
    "SET1S_01.tail()"
   ]
  },
  {
   "cell_type": "code",
   "execution_count": 33,
   "metadata": {},
   "outputs": [
    {
     "data": {
      "text/html": [
       "<div>\n",
       "<style scoped>\n",
       "    .dataframe tbody tr th:only-of-type {\n",
       "        vertical-align: middle;\n",
       "    }\n",
       "\n",
       "    .dataframe tbody tr th {\n",
       "        vertical-align: top;\n",
       "    }\n",
       "\n",
       "    .dataframe thead th {\n",
       "        text-align: right;\n",
       "    }\n",
       "</style>\n",
       "<table border=\"1\" class=\"dataframe\">\n",
       "  <thead>\n",
       "    <tr style=\"text-align: right;\">\n",
       "      <th></th>\n",
       "      <th>2013-01-01 00</th>\n",
       "      <th>1</th>\n",
       "      <th>61</th>\n",
       "      <th>1.1</th>\n",
       "    </tr>\n",
       "  </thead>\n",
       "  <tbody>\n",
       "    <tr>\n",
       "      <th>2013-01-31 23</th>\n",
       "      <td>1666</td>\n",
       "      <td>943</td>\n",
       "      <td>1</td>\n",
       "      <td>165</td>\n",
       "    </tr>\n",
       "    <tr>\n",
       "      <th>2013-01-31 23</th>\n",
       "      <td>1666</td>\n",
       "      <td>1633</td>\n",
       "      <td>1</td>\n",
       "      <td>115</td>\n",
       "    </tr>\n",
       "    <tr>\n",
       "      <th>2013-01-31 23</th>\n",
       "      <td>1666</td>\n",
       "      <td>1635</td>\n",
       "      <td>1</td>\n",
       "      <td>114</td>\n",
       "    </tr>\n",
       "    <tr>\n",
       "      <th>2013-01-31 23</th>\n",
       "      <td>1666</td>\n",
       "      <td>1643</td>\n",
       "      <td>1</td>\n",
       "      <td>203</td>\n",
       "    </tr>\n",
       "    <tr>\n",
       "      <th>2013-01-31 23</th>\n",
       "      <td>1666</td>\n",
       "      <td>1666</td>\n",
       "      <td>4</td>\n",
       "      <td>179</td>\n",
       "    </tr>\n",
       "  </tbody>\n",
       "</table>\n",
       "</div>"
      ],
      "text/plain": [
       "               2013-01-01 00     1  61  1.1\n",
       "2013-01-31 23           1666   943   1  165\n",
       "2013-01-31 23           1666  1633   1  115\n",
       "2013-01-31 23           1666  1635   1  114\n",
       "2013-01-31 23           1666  1643   1  203\n",
       "2013-01-31 23           1666  1666   4  179"
      ]
     },
     "execution_count": 33,
     "metadata": {},
     "output_type": "execute_result"
    }
   ],
   "source": [
    "SET1V_01.tail()"
   ]
  },
  {
   "cell_type": "code",
   "execution_count": 34,
   "metadata": {},
   "outputs": [
    {
     "data": {
      "text/html": [
       "<div>\n",
       "<style scoped>\n",
       "    .dataframe tbody tr th:only-of-type {\n",
       "        vertical-align: middle;\n",
       "    }\n",
       "\n",
       "    .dataframe tbody tr th {\n",
       "        vertical-align: top;\n",
       "    }\n",
       "\n",
       "    .dataframe thead th {\n",
       "        text-align: right;\n",
       "    }\n",
       "</style>\n",
       "<table border=\"1\" class=\"dataframe\">\n",
       "  <thead>\n",
       "    <tr style=\"text-align: right;\">\n",
       "      <th></th>\n",
       "      <th>2013-01-01 00</th>\n",
       "      <th>1</th>\n",
       "      <th>61</th>\n",
       "      <th>1.1</th>\n",
       "    </tr>\n",
       "  </thead>\n",
       "  <tbody>\n",
       "    <tr>\n",
       "      <th>2013-02-01 00</th>\n",
       "      <td>1</td>\n",
       "      <td>90</td>\n",
       "      <td>1</td>\n",
       "      <td>49</td>\n",
       "    </tr>\n",
       "    <tr>\n",
       "      <th>2013-02-01 00</th>\n",
       "      <td>2</td>\n",
       "      <td>2</td>\n",
       "      <td>9</td>\n",
       "      <td>540</td>\n",
       "    </tr>\n",
       "    <tr>\n",
       "      <th>2013-02-01 00</th>\n",
       "      <td>2</td>\n",
       "      <td>3</td>\n",
       "      <td>4</td>\n",
       "      <td>114</td>\n",
       "    </tr>\n",
       "    <tr>\n",
       "      <th>2013-02-01 00</th>\n",
       "      <td>2</td>\n",
       "      <td>4</td>\n",
       "      <td>3</td>\n",
       "      <td>133</td>\n",
       "    </tr>\n",
       "    <tr>\n",
       "      <th>2013-02-01 00</th>\n",
       "      <td>2</td>\n",
       "      <td>5</td>\n",
       "      <td>4</td>\n",
       "      <td>264</td>\n",
       "    </tr>\n",
       "  </tbody>\n",
       "</table>\n",
       "</div>"
      ],
      "text/plain": [
       "               2013-01-01 00   1  61  1.1\n",
       "2013-02-01 00              1  90   1   49\n",
       "2013-02-01 00              2   2   9  540\n",
       "2013-02-01 00              2   3   4  114\n",
       "2013-02-01 00              2   4   3  133\n",
       "2013-02-01 00              2   5   4  264"
      ]
     },
     "execution_count": 34,
     "metadata": {},
     "output_type": "execute_result"
    }
   ],
   "source": [
    "SET1V_02 = pd.read_csv('data/SET1/SET1V_02.CSV.gz')\n",
    "SET1V_02.head() "
   ]
  },
  {
   "cell_type": "code",
   "execution_count": null,
   "metadata": {},
   "outputs": [],
   "source": [
    "header1 = list(pd.read_csv('data/SET2/INDICATORS_SET3_HEADERS.CSV'))\n",
    "\n",
    "I_SET2_P01 = pd.read_csv('data/SET2/INDICATORS_SET2_P01.CSV.gz', names  = header)\n",
    "I_SET2_P01.head()"
   ]
  },
  {
   "cell_type": "code",
   "execution_count": null,
   "metadata": {},
   "outputs": [],
   "source": []
  },
  {
   "cell_type": "code",
   "execution_count": null,
   "metadata": {},
   "outputs": [],
   "source": []
  },
  {
   "cell_type": "code",
   "execution_count": null,
   "metadata": {},
   "outputs": [],
   "source": []
  },
  {
   "cell_type": "code",
   "execution_count": null,
   "metadata": {},
   "outputs": [],
   "source": []
  }
 ],
 "metadata": {
  "kernelspec": {
   "display_name": "Python 3",
   "language": "python",
   "name": "python3"
  },
  "language_info": {
   "codemirror_mode": {
    "name": "ipython",
    "version": 3
   },
   "file_extension": ".py",
   "mimetype": "text/x-python",
   "name": "python",
   "nbconvert_exporter": "python",
   "pygments_lexer": "ipython3",
   "version": "3.7.3"
  }
 },
 "nbformat": 4,
 "nbformat_minor": 2
}
